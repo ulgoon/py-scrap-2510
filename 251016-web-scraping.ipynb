{
 "cells": [
  {
   "cell_type": "code",
   "execution_count": 1,
   "id": "800a5bd5-a71b-431c-8d0a-a7dab5722971",
   "metadata": {},
   "outputs": [
    {
     "name": "stdout",
     "output_type": "stream",
     "text": [
      "Requirement already satisfied: requests in /Users/ulgoon/.pyenv/versions/3.13.8/envs/pyscrap-313/lib/python3.13/site-packages (2.32.5)\n",
      "Requirement already satisfied: charset_normalizer<4,>=2 in /Users/ulgoon/.pyenv/versions/3.13.8/envs/pyscrap-313/lib/python3.13/site-packages (from requests) (3.4.3)\n",
      "Requirement already satisfied: idna<4,>=2.5 in /Users/ulgoon/.pyenv/versions/3.13.8/envs/pyscrap-313/lib/python3.13/site-packages (from requests) (3.11)\n",
      "Requirement already satisfied: urllib3<3,>=1.21.1 in /Users/ulgoon/.pyenv/versions/3.13.8/envs/pyscrap-313/lib/python3.13/site-packages (from requests) (2.5.0)\n",
      "Requirement already satisfied: certifi>=2017.4.17 in /Users/ulgoon/.pyenv/versions/3.13.8/envs/pyscrap-313/lib/python3.13/site-packages (from requests) (2025.10.5)\n",
      "Note: you may need to restart the kernel to use updated packages.\n"
     ]
    }
   ],
   "source": [
    "%pip install requests\n",
    "%pip install beautifulsoup4\n",
    "%pip install lxml\n",
    "\n",
    "# !conda install requests # conda shell에서 설치하거나 주피터에서 다음의 명령 실행\n",
    "# jupyter notebook or visual studio code(with jupyter extension) or google colab 모두 가능"
   ]
  },
  {
   "cell_type": "markdown",
   "id": "9ece603e-57f7-40c8-9b8d-c0bb67c7022c",
   "metadata": {},
   "source": [
    "## Requests"
   ]
  },
  {
   "cell_type": "code",
   "execution_count": 9,
   "id": "4450ab99-9c54-4bd4-a213-25245d3029cd",
   "metadata": {},
   "outputs": [],
   "source": [
    "import requests\n",
    "from bs4 import BeautifulSoup\n",
    "import lxml"
   ]
  },
  {
   "cell_type": "code",
   "execution_count": 3,
   "id": "68609fa0-b47c-46a8-8fc0-5cb2fc5163ad",
   "metadata": {},
   "outputs": [
    {
     "data": {
      "text/plain": [
       "<Response [200]>"
      ]
     },
     "execution_count": 3,
     "metadata": {},
     "output_type": "execute_result"
    }
   ],
   "source": [
    "requests.get('https://www.google.com/')"
   ]
  },
  {
   "cell_type": "code",
   "execution_count": 4,
   "id": "9570b292-43dd-4792-bda2-eace44263bec",
   "metadata": {},
   "outputs": [
    {
     "data": {
      "text/plain": [
       "200"
      ]
     },
     "execution_count": 4,
     "metadata": {},
     "output_type": "execute_result"
    }
   ],
   "source": [
    "response = requests.get('https://www.google.com/')\n",
    "response.status_code\n",
    "# status code: 400 500 일 경우 문제가 있단 뜻(4xx: Client Error, 5xx: Server Error)"
   ]
  },
  {
   "cell_type": "code",
   "execution_count": 7,
   "id": "d04f925b-b1e7-4df7-972c-a6a7025e0207",
   "metadata": {},
   "outputs": [
    {
     "name": "stdout",
     "output_type": "stream",
     "text": [
      "<class 'str'>\n"
     ]
    },
    {
     "data": {
      "text/plain": [
       "'<!doctype html><html itemscope=\"\" itemtype=\"http://schema.org/WebPage\" lang=\"ko\"><head><meta content=\"text/html; charset=UTF-8\" http-equiv=\"Content-Type\"><meta content=\"/images/branding/googleg/1x/googleg_standard_color_128dp.png\" itemprop=\"image\"><title>Google</title><script nonce=\"WwzkAFBro7L0GHF4'"
      ]
     },
     "execution_count": 7,
     "metadata": {},
     "output_type": "execute_result"
    }
   ],
   "source": [
    "print(type(response.text))\n",
    "response.text[:300]"
   ]
  },
  {
   "cell_type": "markdown",
   "id": "cc405484-cb10-4164-b4c3-6f6ff98b4950",
   "metadata": {},
   "source": [
    "## Beautifulsoup"
   ]
  },
  {
   "cell_type": "code",
   "execution_count": 10,
   "id": "dee2d480-cae1-4fd4-91cf-46acad90699f",
   "metadata": {},
   "outputs": [
    {
     "data": {
      "text/plain": [
       "200"
      ]
     },
     "execution_count": 10,
     "metadata": {},
     "output_type": "execute_result"
    }
   ],
   "source": [
    "response = requests.get('https://sports.daum.net/soccer') # requests로 분석할 문서 텍스트 요청\n",
    "response.status_code"
   ]
  },
  {
   "cell_type": "code",
   "execution_count": 12,
   "id": "819d6510-38a2-4e33-93ce-82f551a28489",
   "metadata": {},
   "outputs": [],
   "source": [
    "html = response.text # 응답 텍스트를 변수에 할당\n",
    "soup = BeautifulSoup(html, 'lxml') # beautifulsoup 을 이용한 html 분석 시작(lxml 이용)"
   ]
  },
  {
   "cell_type": "code",
   "execution_count": 17,
   "id": "f944cd31-6eab-4d7e-9d65-44a439b97788",
   "metadata": {},
   "outputs": [],
   "source": [
    "# find, find_all, select, select_one\n",
    "# soup.find_all('ol')\n",
    "# len(soup.find_all('ol')) # ol 태그는 문서 전체에 2개가 존재\n",
    "ol = soup.find_all('ol')[0] # 리스트 중 0번째 ol 태그 선택(많이 본 뉴스)"
   ]
  },
  {
   "cell_type": "code",
   "execution_count": 29,
   "id": "b3b82dd3-e100-422e-88b1-517d4d29adb5",
   "metadata": {
    "scrolled": true
   },
   "outputs": [
    {
     "data": {
      "text/plain": [
       "[{'rank': '1',\n",
       "  'news_title': '선수들끼리 호텔방에서 ‘감독 교체 투표’ 뒤 대표이사에 전달…신태용 작심 폭로 ‘막전막후’',\n",
       "  'news_link': 'https://v.daum.net/v/20251016060114057'},\n",
       " {'rank': '2',\n",
       "  'news_title': \"FIFA '오피셜' 공식발표, 홍명보호 '기적의 조추첨'→역사상 두 번째 조 1위 희망 생기나...미국-한국-파라과이-카보베르데, 역대급 꿀조 가능\",\n",
       "  'news_link': 'https://v.daum.net/v/20251016053119867'},\n",
       " {'rank': '3',\n",
       "  'news_title': \"'울산 전격경질' 신태용 감독 추가폭로 “코칭스태프 작전이 고참선수 귀에 다 들어갔다”\",\n",
       "  'news_link': 'https://v.daum.net/v/20251016060247219'},\n",
       " {'rank': '4',\n",
       "  'news_title': \"'홍명보호 축하합니다'…英 통계 매체 '韓 귀중한 포인트 얻었다'→포트2 굳히기+캐나다·노르웨이·뉴질랜드 '역대급 꿀조' 가능\",\n",
       "  'news_link': 'https://v.daum.net/v/20251016050147583'},\n",
       " {'rank': '5',\n",
       "  'news_title': '직설화법 이천수의 작심비판 “대표팀 경기에 왜 관중이 없을까 고민을 해야 한다”',\n",
       "  'news_link': 'https://v.daum.net/v/20251016074648932'},\n",
       " {'rank': '6',\n",
       "  'news_title': '‘51위’ 루마니아가 한국 지켰다…홍명보호, 랭킹P 까먹고도 FIFA 랭킹 1계단 상승',\n",
       "  'news_link': 'https://v.daum.net/v/20251015204147773'},\n",
       " {'rank': '7',\n",
       "  'news_title': '\\'홍명보호 파라과이 대결 관중 22,206명\\' 이천수의 일침, \"왜 그럴까? 고민해야 한다\"',\n",
       "  'news_link': 'https://v.daum.net/v/20251016085138439'},\n",
       " {'rank': '8',\n",
       "  'news_title': '내 제자 흥민아 선물이다...포체티노 도왔다, 대한민국 사상 최초 월드컵 2포트 진입 가능성 대폭등→미국, 호주에 2-1 역전승',\n",
       "  'news_link': 'https://v.daum.net/v/20251015120312145'},\n",
       " {'rank': '9',\n",
       "  'news_title': \"'충격과 공포' 대한민국 사우디 대참사, 이민성호 2연전 도합 0-6 대패→U-23 아시안컵 실패 반복되나\",\n",
       "  'news_link': 'https://v.daum.net/v/20251016002628212'},\n",
       " {'rank': '10',\n",
       "  'news_title': '“그들은 훌륭한 팀, 0-5 한국과는 전혀 달랐어”…브라질 ‘전설’ 지쿠, 대역전승 日 축구 극찬했다',\n",
       "  'news_link': 'https://v.daum.net/v/20251016080113155'}]"
      ]
     },
     "execution_count": 29,
     "metadata": {},
     "output_type": "execute_result"
    }
   ],
   "source": [
    "lis = ol.find_all('li') # ol태그의 뉴스단위는 li로 구분되므로 모든 li를 찾아 구분한 뉴스 묶음 lis\n",
    "# 뉴스 한단위(li) 하나하나에 대해\n",
    "popular_news = []\n",
    "for li in lis:\n",
    "    # print(li.find('em')) # 순위 값을 구하기 위한 과정\n",
    "    # print(li.find('em').text)\n",
    "    rank = li.find('em').text\n",
    "    # print(li.find('a')) # 뉴스 제목을 구하기 위한 과정\n",
    "    # print(li.find('a').text)\n",
    "    title = li.find('a').text\n",
    "    # print(li.find('a')) # 뉴스 링크를 구하기 위한 과정\n",
    "    # print(li.find('a')['href'])\n",
    "    news_link = li.find('a')['href']\n",
    "    # print(rank, title, news_link) # 모두 값이 제대로 출력되었는지 최종확인\n",
    "    popular_news.append({\n",
    "        'rank': rank,\n",
    "        'news_title': title,\n",
    "        'news_link': news_link,\n",
    "    }) # dict 형태로 한단위의 뉴스를 popular_news라는 리스트에 추가\n",
    "popular_news"
   ]
  },
  {
   "cell_type": "code",
   "execution_count": 30,
   "id": "08e7a0c6-f16a-414e-b6eb-8cbb1c1439a8",
   "metadata": {},
   "outputs": [
    {
     "data": {
      "text/plain": [
       "[{'rank': '1',\n",
       "  'news_title': '선수들끼리 호텔방에서 ‘감독 교체 투표’ 뒤 대표이사에 전달…신태용 작심 폭로 ‘막전막후’',\n",
       "  'news_link': 'https://v.daum.net/v/20251016060114057'},\n",
       " {'rank': '2',\n",
       "  'news_title': \"'울산 전격경질' 신태용 감독 추가폭로 “코칭스태프 작전이 고참선수 귀에 다 들어갔다”\",\n",
       "  'news_link': 'https://v.daum.net/v/20251016060247219'},\n",
       " {'rank': '3',\n",
       "  'news_title': \"'홍명보호 축하합니다'…英 통계 매체 '韓 귀중한 포인트 얻었다'→포트2 굳히기+캐나다·노르웨이·뉴질랜드 '역대급 꿀조' 가능\",\n",
       "  'news_link': 'https://v.daum.net/v/20251016050147583'},\n",
       " {'rank': '4',\n",
       "  'news_title': '직설화법 이천수의 작심비판 “대표팀 경기에 왜 관중이 없을까 고민을 해야 한다”',\n",
       "  'news_link': 'https://v.daum.net/v/20251016074648932'},\n",
       " {'rank': '5',\n",
       "  'news_title': \"FIFA '오피셜' 공식발표, 홍명보호 '기적의 조추첨'→역사상 두 번째 조 1위 희망 생기나...미국-한국-파라과이-카보베르데, 역대급 꿀조 가능\",\n",
       "  'news_link': 'https://v.daum.net/v/20251016053119867'},\n",
       " {'rank': '6',\n",
       "  'news_title': '“벤투 왜 잘랐나?” UAE 축구팬 ‘분통’···“벤투는 카타르에 2연승 8-1로 이겼는데” 한숨',\n",
       "  'news_link': 'https://v.daum.net/v/20251016105347733'},\n",
       " {'rank': '7',\n",
       "  'news_title': '\\'홍명보호 파라과이 대결 관중 22,206명\\' 이천수의 일침, \"왜 그럴까? 고민해야 한다\"',\n",
       "  'news_link': 'https://v.daum.net/v/20251016085138439'},\n",
       " {'rank': '8',\n",
       "  'news_title': '‘51위’ 루마니아가 한국 지켰다…홍명보호, 랭킹P 까먹고도 FIFA 랭킹 1계단 상승',\n",
       "  'news_link': 'https://v.daum.net/v/20251015204147773'},\n",
       " {'rank': '9',\n",
       "  'news_title': \"'충격과 공포' 대한민국 사우디 대참사, 이민성호 2연전 도합 0-6 대패→U-23 아시안컵 실패 반복되나\",\n",
       "  'news_link': 'https://v.daum.net/v/20251016002628212'},\n",
       " {'rank': '10',\n",
       "  'news_title': '내 제자 흥민아 선물이다...포체티노 도왔다, 대한민국 사상 최초 월드컵 2포트 진입 가능성 대폭등→미국, 호주에 2-1 역전승',\n",
       "  'news_link': 'https://v.daum.net/v/20251015120312145'}]"
      ]
     },
     "execution_count": 30,
     "metadata": {},
     "output_type": "execute_result"
    }
   ],
   "source": [
    "# 최종 정리 v1\n",
    "response = requests.get('https://sports.daum.net/soccer') # requests로 분석할 문서 텍스트 요청\n",
    "html = response.text # 응답 텍스트를 변수에 할당\n",
    "\n",
    "soup = BeautifulSoup(html, 'lxml') # beautifulsoup 을 이용한 html 분석 시작(lxml 이용)\n",
    "ol = soup.find_all('ol')[0] # 리스트 중 0번째 ol 태그 선택(많이 본 뉴스)\n",
    "lis = ol.find_all('li') # ol태그의 뉴스단위는 li로 구분되므로 모든 li를 찾아 구분한 뉴스 묶음 lis\n",
    "popular_news = []\n",
    "# 뉴스 한단위(li) 하나하나에 대해\n",
    "for li in lis:\n",
    "    rank = li.find('em').text\n",
    "    title = li.find('a').text\n",
    "    news_link = li.find('a')['href']\n",
    "    popular_news.append({\n",
    "        'rank': rank,\n",
    "        'news_title': title,\n",
    "        'news_link': news_link,\n",
    "    }) # dict 형태로 한단위의 뉴스를 popular_news라는 리스트에 추가\n",
    "popular_news"
   ]
  },
  {
   "cell_type": "markdown",
   "id": "52aec0d8-070a-45c6-a80e-9dc34733920b",
   "metadata": {},
   "source": [
    "## Requests with json"
   ]
  },
  {
   "cell_type": "code",
   "execution_count": 31,
   "id": "37260829-3d71-4ff9-8c0e-8576319fdc3a",
   "metadata": {},
   "outputs": [
    {
     "data": {
      "text/plain": [
       "200"
      ]
     },
     "execution_count": 31,
     "metadata": {},
     "output_type": "execute_result"
    }
   ],
   "source": [
    "response = requests.get('https://jsonplaceholder.typicode.com/users/2/')\n",
    "response.status_code"
   ]
  },
  {
   "cell_type": "code",
   "execution_count": 35,
   "id": "f52b5848-687f-47bd-a527-4fcc682af5c5",
   "metadata": {},
   "outputs": [
    {
     "data": {
      "text/plain": [
       "dict"
      ]
     },
     "execution_count": 35,
     "metadata": {},
     "output_type": "execute_result"
    }
   ],
   "source": [
    "# response.json() # json 형태의 데이터일 경우 .json()으로 바로 python dict로 받을 수 있음( text로 받으면 json 라이브러리로 parse 직접해야함)\n",
    "type(response.json())"
   ]
  },
  {
   "cell_type": "code",
   "execution_count": null,
   "id": "7ecaf816-31c8-4425-b55f-0543adde58ec",
   "metadata": {},
   "outputs": [],
   "source": [
    "# ol.list_rank"
   ]
  },
  {
   "cell_type": "markdown",
   "id": "3b1fdea1-6924-4994-8df6-2ad49580fb15",
   "metadata": {},
   "source": [
    "## Rottentomatoes"
   ]
  },
  {
   "cell_type": "code",
   "execution_count": 36,
   "id": "f72a8406-a6af-4f5b-a97a-7a5725d6028a",
   "metadata": {},
   "outputs": [
    {
     "data": {
      "text/plain": [
       "200"
      ]
     },
     "execution_count": 36,
     "metadata": {},
     "output_type": "execute_result"
    }
   ],
   "source": [
    "response = requests.get('https://www.rottentomatoes.com/')\n",
    "response.status_code"
   ]
  },
  {
   "cell_type": "code",
   "execution_count": 40,
   "id": "ebaf34ee-8ad5-4cb2-a83a-dcd88562b290",
   "metadata": {},
   "outputs": [
    {
     "name": "stdout",
     "output_type": "stream",
     "text": [
      "<h2 class=\"unset\" slot=\"header\">\n",
      "<rt-text context=\"heading\" size=\"1.25\">Popular Streaming Movies</rt-text>\n",
      "</h2>\n",
      "<h2 class=\"unset\" slot=\"header\">\n",
      "<rt-text context=\"heading\" size=\"1.25\">Popular TV </rt-text>\n",
      "</h2>\n",
      "<h2 class=\"unset\" slot=\"header\">\n",
      "<rt-text context=\"heading\" size=\"1.25\">New TV This Week</rt-text>\n",
      "</h2>\n",
      "<h2 class=\"unset\" slot=\"header\">\n",
      "<rt-text context=\"heading\" size=\"1.25\">Top 10 Box Office</rt-text>\n",
      "</h2>\n"
     ]
    }
   ],
   "source": [
    "html = response.text\n",
    "\n",
    "soup = BeautifulSoup(html, 'lxml')\n",
    "# soup.find_all('section', attrs={'class':\"dynamic-text-list\"})\n",
    "# len(soup.find_all('section', attrs={'class':\"dynamic-text-list\"})) # 잘 찾은게 맞는지 확인\n",
    "charts = soup.find_all('section', attrs={'class':\"dynamic-text-list\"}) # 일단 차트들 모두 charts에 할당\n",
    "for chart in charts:\n",
    "    print(chart.find('h2'))\n"
   ]
  },
  {
   "cell_type": "code",
   "execution_count": 41,
   "id": "c42a566b-9baa-4ee4-ab45-a7890486886a",
   "metadata": {},
   "outputs": [
    {
     "data": {
      "text/plain": [
       "<h2 class=\"unset\" slot=\"header\">\n",
       "<rt-text context=\"heading\" size=\"1.25\">Top 10 Box Office</rt-text>\n",
       "</h2>"
      ]
     },
     "execution_count": 41,
     "metadata": {},
     "output_type": "execute_result"
    }
   ],
   "source": [
    "html = response.text\n",
    "\n",
    "soup = BeautifulSoup(html, 'lxml')\n",
    "box_office = soup.find_all('section', attrs={'class':\"dynamic-text-list\"})[-1]\n",
    "box_office.find('h2')"
   ]
  },
  {
   "cell_type": "code",
   "execution_count": 45,
   "id": "177357f0-344e-4aa0-b7c6-ba7acef8443f",
   "metadata": {},
   "outputs": [],
   "source": [
    "# box_office.find('h2').text\n",
    "# box_office.find('h2').text.strip('\\n')\n",
    "chart_name = box_office.find('h2').text.strip('\\n')"
   ]
  },
  {
   "cell_type": "code",
   "execution_count": 58,
   "id": "4d5f1564-85e3-4386-a0b3-aa922692ca8f",
   "metadata": {},
   "outputs": [
    {
     "name": "stdout",
     "output_type": "stream",
     "text": [
      "TRON: Ares 53%\n",
      "Roofman 84%\n",
      "One Battle After Another 95%\n",
      "Gabby's Dollhouse: The Movie 84%\n",
      "Soul on Fire \n",
      "The Conjuring: Last Rites 59%\n",
      "Demon Slayer: Kimetsu no Yaiba Infinity Castle 98%\n",
      "The Smashing Machine 71%\n",
      "The Strangers: Chapter 2 15%\n",
      "The Long Walk 88%\n"
     ]
    }
   ],
   "source": [
    "# box_office.find_all('li') # section에서 li 태그들 찾기 (ul을 거쳐서 가도 되지만 section으로 이미 잘라놨기 때문에 굳이..)\n",
    "lis = box_office.find_all('li')\n",
    "for li in lis:\n",
    "    # print(li.select_one('a:nth-child(1)'))\n",
    "    # print(li.select_one('a:nth-child(1)').text)\n",
    "    # print(li.select_one('a:nth-child(1)').text.strip('\\n'))\n",
    "    title = li.select_one('a:nth-child(1)').text.strip('\\n')\n",
    "    # print(li.select_one('a:nth-child(2)'))\n",
    "    # print(li.select_one('a:nth-child(2)').text)\n",
    "    # print(li.select_one('a:nth-child(2)').text.strip('\\n '))\n",
    "    score = li.select_one('a:nth-child(2)').text.strip('\\n ')\n",
    "    print(title, score)"
   ]
  },
  {
   "cell_type": "code",
   "execution_count": 63,
   "id": "d283c080-8db3-4bc2-92cb-d7f2590dc271",
   "metadata": {},
   "outputs": [
    {
     "data": {
      "text/plain": [
       "[{'title': 'TRON: Ares', 'score': '53%'},\n",
       " {'title': 'Roofman', 'score': '84%'},\n",
       " {'title': 'One Battle After Another', 'score': '95%'},\n",
       " {'title': \"Gabby's Dollhouse: The Movie\", 'score': '84%'},\n",
       " {'title': 'Soul on Fire', 'score': '-'},\n",
       " {'title': 'The Conjuring: Last Rites', 'score': '59%'},\n",
       " {'title': 'Demon Slayer: Kimetsu no Yaiba Infinity Castle', 'score': '98%'},\n",
       " {'title': 'The Smashing Machine', 'score': '71%'},\n",
       " {'title': 'The Strangers: Chapter 2', 'score': '15%'},\n",
       " {'title': 'The Long Walk', 'score': '88%'}]"
      ]
     },
     "execution_count": 63,
     "metadata": {},
     "output_type": "execute_result"
    }
   ],
   "source": [
    "response = requests.get('https://www.rottentomatoes.com/')\n",
    "response.status_code\n",
    "\n",
    "html = response.text\n",
    "\n",
    "soup = BeautifulSoup(html, 'lxml')\n",
    "box_office = soup.find_all('section', attrs={'class':\"dynamic-text-list\"})[-1]\n",
    "box_office.find('h2')\n",
    "\n",
    "chart_name = box_office.find('h2').text.strip('\\n')\n",
    "\n",
    "lis = box_office.find_all('li')\n",
    "result = []\n",
    "for li in lis:\n",
    "    title = li.select_one('a:nth-child(1)').text.strip('\\n')\n",
    "    score = li.select_one('a:nth-child(2)').text.strip('\\n ')\n",
    "    result.append({\n",
    "        'title': title,\n",
    "        'score': score if score != '' else '-',\n",
    "    })\n",
    "result"
   ]
  },
  {
   "cell_type": "code",
   "execution_count": null,
   "id": "4f9273a3-3652-4f85-8acf-f542a2094127",
   "metadata": {},
   "outputs": [],
   "source": []
  },
  {
   "cell_type": "code",
   "execution_count": null,
   "id": "72a72cd4-f4b8-459f-8a8a-8974e60cbc53",
   "metadata": {},
   "outputs": [],
   "source": []
  },
  {
   "cell_type": "code",
   "execution_count": null,
   "id": "2abe103d-8f1a-4ac7-a6b1-c08a53bed070",
   "metadata": {},
   "outputs": [],
   "source": []
  },
  {
   "cell_type": "code",
   "execution_count": null,
   "id": "67f4d763-9809-435f-bedd-90f4dffb2ad9",
   "metadata": {},
   "outputs": [],
   "source": []
  },
  {
   "cell_type": "code",
   "execution_count": null,
   "id": "00de0993-1c5b-4d72-9820-f07d5685befb",
   "metadata": {},
   "outputs": [],
   "source": []
  },
  {
   "cell_type": "code",
   "execution_count": null,
   "id": "5336e5f4-8da1-4caa-8243-1167c335ea9c",
   "metadata": {},
   "outputs": [],
   "source": []
  },
  {
   "cell_type": "code",
   "execution_count": null,
   "id": "b7d4c756-b6ef-4415-9cea-29dc874b387a",
   "metadata": {},
   "outputs": [],
   "source": []
  },
  {
   "cell_type": "code",
   "execution_count": null,
   "id": "e6b5efe6-3824-4ed0-8b0a-df388ef29f93",
   "metadata": {},
   "outputs": [],
   "source": []
  }
 ],
 "metadata": {
  "kernelspec": {
   "display_name": "Python 3 (ipykernel)",
   "language": "python",
   "name": "python3"
  },
  "language_info": {
   "codemirror_mode": {
    "name": "ipython",
    "version": 3
   },
   "file_extension": ".py",
   "mimetype": "text/x-python",
   "name": "python",
   "nbconvert_exporter": "python",
   "pygments_lexer": "ipython3",
   "version": "3.13.8"
  }
 },
 "nbformat": 4,
 "nbformat_minor": 5
}
