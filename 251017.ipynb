{
 "cells": [
  {
   "cell_type": "code",
   "execution_count": 2,
   "id": "5384d522-7055-4ec7-8127-d1337e75a700",
   "metadata": {},
   "outputs": [],
   "source": [
    "import requests\n",
    "from bs4 import BeautifulSoup\n",
    "import lxml"
   ]
  },
  {
   "cell_type": "code",
   "execution_count": 20,
   "id": "50419efb-7607-490f-99c8-f6ad0e1f9d17",
   "metadata": {},
   "outputs": [],
   "source": [
    "hostname = 'https://www.rottentomatoes.com'\n",
    "url = hostname + '/browse/movies_in_theaters/sort:popular'"
   ]
  },
  {
   "cell_type": "code",
   "execution_count": 4,
   "id": "03ec6a0d-7ca6-4d2e-b9e5-a982427b306e",
   "metadata": {},
   "outputs": [
    {
     "data": {
      "text/plain": [
       "200"
      ]
     },
     "execution_count": 4,
     "metadata": {},
     "output_type": "execute_result"
    }
   ],
   "source": [
    "# requests.get(url)\n",
    "response = requests.get(url)\n",
    "response.status_code"
   ]
  },
  {
   "cell_type": "code",
   "execution_count": 5,
   "id": "6747c76c-6153-4450-8695-7c74222a8476",
   "metadata": {},
   "outputs": [],
   "source": [
    "# 전체 페이지에서 필요한 영역(영화 리스트) 크게 잘라내기\n",
    "soup = BeautifulSoup(response.text, 'lxml')\n",
    "# find,find_all,(tag name + attrs) select_one,select(CSS Selector)\n",
    "# soup.find_all('div', attrs={'class':'discovery-tiles__wrap'})\n",
    "# len(soup.find_all('div', attrs={'class':'discovery-tiles__wrap'})) # find_all, select 이용시 항상 갯수를 세어서 원하는 갯수가 맞는지 확인\n",
    "movie_list = soup.find('div', attrs={'class':'discovery-tiles__wrap'}) # find_all 할 필요가 없어서 find 로 변경"
   ]
  },
  {
   "cell_type": "code",
   "execution_count": 7,
   "id": "08749725-b5e2-482f-b9ae-f743cea50c38",
   "metadata": {},
   "outputs": [],
   "source": [
    "# 영역에서 필요한 단위(영화 한 편)로 잘라내기\n",
    "# movie_list.find_all('div', attrs={'class':'flex-container'})\n",
    "# len(movie_list.find_all('div', attrs={'class':'flex-container'}))\n",
    "movies = movie_list.find_all('div', attrs={'class':'flex-container'})"
   ]
  },
  {
   "cell_type": "code",
   "execution_count": 21,
   "id": "d44b2eaa-3d23-43fe-b34b-1a38f1947617",
   "metadata": {},
   "outputs": [
    {
     "data": {
      "text/plain": [
       "'https://www.rottentomatoes.com/m/tron_ares'"
      ]
     },
     "execution_count": 21,
     "metadata": {},
     "output_type": "execute_result"
    }
   ],
   "source": [
    "# 샘플을 가지고 먼저 작업 수행하기\n",
    "# 이미지 url, 링크 url, 영화제목\n",
    "# movies[0]\n",
    "# movies[0].find('rt-img')\n",
    "# movies[0].find('rt-img')['src']\n",
    "img_url = movies[0].find('rt-img')['src']\n",
    "\n",
    "# movies[0].select('span')\n",
    "# movies[0].select('span.p--small') # class 선택자 .\n",
    "# movies[0].select('span.p--small')[0] # class 선택자 .\n",
    "# movies[0].select('span.p--small')[0].string # class 선택자 .\n",
    "# movies[0].select('span.p--small')[0].string.strip('\\n ') # class 선택자 .\n",
    "movie_title = movies[0].select('span.p--small')[0].string.strip('\\n ') # class 선택자 .\n",
    "\n",
    "# movies[0].find('a')\n",
    "# movies[0].find('a')['href']\n",
    "# hostname + movies[0].find('a')['href']\n",
    "movie_url = hostname + movies[0].find('a')['href']"
   ]
  },
  {
   "cell_type": "code",
   "execution_count": 24,
   "id": "dace977d-6402-444b-85d3-a63cea06f326",
   "metadata": {},
   "outputs": [
    {
     "data": {
      "text/plain": [
       "[{'poster_link': 'https://resizing.flixster.com/K0aJjfOwbuXTvkIHadRQ2zRnJ5I=/206x305/v2/https://resizing.flixster.com/47cnXnHE1N213AgLnzYCVugVD0M=/ems.cHJkLWVtcy1hc3NldHMvbW92aWVzL2Q3Mzc1YWQ5LTIzYTQtNDY3My04YmVjLTNkM2VhZDg1NTE1NS5qcGc=',\n",
       "  'title': 'TRON: Ares',\n",
       "  'rt_link': 'https://www.rottentomatoes.com/m/tron_ares'},\n",
       " {'poster_link': 'https://resizing.flixster.com/a0E2gFPOf0-iJR0RSgWv8zqCJxQ=/206x305/v2/https://resizing.flixster.com/yepsxuaCu3f7igZnTo2huAOVtCU=/ems.cHJkLWVtcy1hc3NldHMvbW92aWVzLzNhNmQzNDA0LWFhYjQtNDA5Mi04OTMyLTA2Y2U2OWI5ZjVmYS5qcGc=',\n",
       "  'title': 'One Battle After Another',\n",
       "  'rt_link': 'https://www.rottentomatoes.com/m/one_battle_after_another'},\n",
       " {'poster_link': 'https://resizing.flixster.com/ApYtN733UIua-dwTv1WFR1yv164=/206x305/v2/https://resizing.flixster.com/aKbJTH0DSJ78f44mzlQeLF2xU4o=/ems.cHJkLWVtcy1hc3NldHMvbW92aWVzLzhiOWQ0Mzg0LWZjMjgtNDdlOC05OWVlLTg0OWNlZjY0NGM0Ny5qcGc=',\n",
       "  'title': 'Roofman',\n",
       "  'rt_link': 'https://www.rottentomatoes.com/m/roofman'},\n",
       " {'poster_link': 'https://resizing.flixster.com/X02XNQ37q8y0jL7h1yo-HGM4aZY=/206x305/v2/https://resizing.flixster.com/OfmbZ8Gy2cwsBeL5GQ2BOl0gJMg=/ems.cHJkLWVtcy1hc3NldHMvbW92aWVzL2Q3NmNhYjA2LWI2NDAtNGNjYS1hMzE1LTNiMDFmYmM0N2RiYi5qcGc=',\n",
       "  'title': 'Black Phone 2',\n",
       "  'rt_link': 'https://www.rottentomatoes.com/m/black_phone_2'},\n",
       " {'poster_link': 'https://resizing.flixster.com/psGm7UsYaW83iAq7qMEvWAdQnJc=/206x305/v2/https://resizing.flixster.com/uaS9Buuct1GoHPTsNXIUBfvORbg=/ems.cHJkLWVtcy1hc3NldHMvbW92aWVzL2YzY2U4OWM5LWUyNTctNDJmMy1hYTc3LTAwMDY5NjU0N2VjZS5qcGc=',\n",
       "  'title': 'Weapons',\n",
       "  'rt_link': 'https://www.rottentomatoes.com/m/weapons'},\n",
       " {'poster_link': 'https://resizing.flixster.com/IwYuBlsLU2wW_qk2l4HTg4292Mk=/206x305/v2/https://resizing.flixster.com/bCmE66JqOjdh0rAHjb3JSQKYu2I=/ems.cHJkLWVtcy1hc3NldHMvbW92aWVzLzhiNTJiZGVjLWU3ODktNDllMC1hZWE4LTQ5YjFjNzM4ZjUwYS5qcGc=',\n",
       "  'title': 'Good Boy',\n",
       "  'rt_link': 'https://www.rottentomatoes.com/m/good_boy_2025'},\n",
       " {'poster_link': 'https://resizing.flixster.com/-lMQcGZV0glOY1yrkt4AXUIO9Qw=/206x305/v2/https://resizing.flixster.com/alzZWRTf5pZoDAudnLaxTbciZxY=/ems.cHJkLWVtcy1hc3NldHMvbW92aWVzLzNlMWZkY2U4LTJmOGEtNGRmNi05Mjg5LTU0MTFjYWNhMzM5NS5qcGc=',\n",
       "  'title': 'Kiss of the Spider Woman',\n",
       "  'rt_link': 'https://www.rottentomatoes.com/m/kiss_of_the_spider_woman_2025'},\n",
       " {'poster_link': 'https://resizing.flixster.com/rsOzN-h_vtInSpz4fVPtEo5BBU0=/206x305/v2/https://resizing.flixster.com/p3353cv-SS1XX2iMINFj9ZMUtVM=/ems.cHJkLWVtcy1hc3NldHMvbW92aWVzLzA5Y2QxMGRmLWRmNjUtNGVlOC1iM2VjLTRjNGIzMWMzMGQ1NS5qcGc=',\n",
       "  'title': 'HIM',\n",
       "  'rt_link': 'https://www.rottentomatoes.com/m/him_2025_2'},\n",
       " {'poster_link': 'https://resizing.flixster.com/IypIPjUm7K1XM1AIuxBm6BIk12M=/206x305/v2/https://resizing.flixster.com/qma4scQB19agkqUWcto4orOobHw=/ems.cHJkLWVtcy1hc3NldHMvbW92aWVzL2Y5YTFkNTZiLWI0NjYtNGI0MC1iMTNiLTQ1M2I0ZjEyODcxOC5qcGc=',\n",
       "  'title': 'Good Fortune',\n",
       "  'rt_link': 'https://www.rottentomatoes.com/m/good_fortune'},\n",
       " {'poster_link': 'https://resizing.flixster.com/wAyNYqTYbk3fakyp9QX_mEFyXnk=/206x305/v2/https://resizing.flixster.com/N51PaCVs6T7yUteAvq8TnlOnwQU=/ems.cHJkLWVtcy1hc3NldHMvbW92aWVzLzMyYjNjMTE1LWQ1ODQtNGY5Ny1hYjQzLWYzZmFmMWZiMDU5OC5qcGc=',\n",
       "  'title': 'After the Hunt',\n",
       "  'rt_link': 'https://www.rottentomatoes.com/m/after_the_hunt'},\n",
       " {'poster_link': 'https://resizing.flixster.com/BRP_UfjT5k5-1jz_Eq52hGszFqY=/206x305/v2/https://resizing.flixster.com/Yvivj5ruBbhNs1mN3JyudkIeJ6U=/ems.cHJkLWVtcy1hc3NldHMvbW92aWVzLzNmM2VkNTg5LTAwOGQtNDdiZC1hZGRkLTQ4ZDc2Yzc4YjU2ZC5qcGc=',\n",
       "  'title': 'A HOUSE OF DYNAMITE',\n",
       "  'rt_link': 'https://www.rottentomatoes.com/m/a_house_of_dynamite'},\n",
       " {'poster_link': 'https://resizing.flixster.com/sZEZ5noYh20GigZCfH45b-bTQBg=/206x305/v2/https://resizing.flixster.com/Zz5j775bLo0_Z-G77RAEMRKjB18=/ems.cHJkLWVtcy1hc3NldHMvbW92aWVzL2JmOTJjOWE4LTNlYTAtNGFmMS04NDViLTQ5Njg5Mjc4MzY0Ni5qcGc=',\n",
       "  'title': 'Frankenstein',\n",
       "  'rt_link': 'https://www.rottentomatoes.com/m/frankenstein_2025'},\n",
       " {'poster_link': 'https://resizing.flixster.com/ch7naNa96suJWuAplmfOLpGi7oA=/206x305/v2/https://resizing.flixster.com/fFnF5m4dVb_px7voe96J99cI8wk=/ems.cHJkLWVtcy1hc3NldHMvbW92aWVzLzM4ZmZhMGEwLThjYmQtNDcyZi1hMGFiLWU0Nzg4MWMyMGI0Zi5qcGc=',\n",
       "  'title': 'The Conjuring: Last Rites',\n",
       "  'rt_link': 'https://www.rottentomatoes.com/m/the_conjuring_last_rites'},\n",
       " {'poster_link': 'https://resizing.flixster.com/q1ghEo78vDF8eMY_z59ByzM77F0=/206x305/v2/https://resizing.flixster.com/SmFbanoZwH3Zu1VDR4KP_fQT_HQ=/ems.cHJkLWVtcy1hc3NldHMvbW92aWVzL2FkMTBkYjYwLTdjNmYtNDQzZi1hMzU1LWMzMTkxODYwMTQxNS5qcGc=',\n",
       "  'title': 'The Long Walk',\n",
       "  'rt_link': 'https://www.rottentomatoes.com/m/the_long_walk_2025'},\n",
       " {'poster_link': 'https://resizing.flixster.com/bmbSTWhFGE1G15OdF04F3Y3mS6U=/206x305/v2/https://resizing.flixster.com/IhekWAwTbCJeHx28kdyrJNoaEhQ=/ems.cHJkLWVtcy1hc3NldHMvbW92aWVzL2Q0Yzc1ODgwLWEzNzEtNGIzZC1iMGU3LWEyMzNlYjI3MmM5OS5qcGc=',\n",
       "  'title': 'Soul on Fire',\n",
       "  'rt_link': 'https://www.rottentomatoes.com/m/soul_on_fire'},\n",
       " {'poster_link': 'https://resizing.flixster.com/9pXVmDOAW4BkDpeaoMrC2QH0zHo=/206x305/v2/https://resizing.flixster.com/zXZcOch32GNhozxLFHnDiVXspf8=/ems.cHJkLWVtcy1hc3NldHMvbW92aWVzLzFhODEyYzYzLTlhM2QtNGU0YS1iNGY3LTNkNDY3MWQxYWQ2NS5qcGc=',\n",
       "  'title': \"If I Had Legs I'd Kick You\",\n",
       "  'rt_link': 'https://www.rottentomatoes.com/m/if_i_had_legs_id_kick_you'},\n",
       " {'poster_link': 'https://resizing.flixster.com/EwIZj_tqxoSxEABwp2xQ51HQA8U=/206x305/v2/https://resizing.flixster.com/bJJ57noM7uFLFepE_J7mkM0Mf_4=/ems.cHJkLWVtcy1hc3NldHMvbW92aWVzLzdkOGFlYWU2LTRlZmYtNDMzZS04MDAxLWFmZDVjNzI3MGQ4My5qcGc=',\n",
       "  'title': 'It Was Just an Accident',\n",
       "  'rt_link': 'https://www.rottentomatoes.com/m/it_was_just_an_accident'},\n",
       " {'poster_link': 'https://resizing.flixster.com/rMPAwQuwhkDu2Ay5TZ-4MbGUoLk=/206x305/v2/https://resizing.flixster.com/9KLhH_lTJno4oMw0Vc6DsvDBGAs=/ems.cHJkLWVtcy1hc3NldHMvbW92aWVzLzFmM2UwODIxLTlmMTAtNDlkNy05ZmJmLTZjOGJhMGYwZDU0YS5qcGc=',\n",
       "  'title': 'Anemone',\n",
       "  'rt_link': 'https://www.rottentomatoes.com/m/anemone_2025'},\n",
       " {'poster_link': 'https://resizing.flixster.com/M_POJtrrTGIR3PWLk5tkrXWX4wc=/206x305/v2/https://resizing.flixster.com/RKrt3h8sqkoLIWeeGslKNJV5aus=/ems.cHJkLWVtcy1hc3NldHMvbW92aWVzL2ViZmI1MjY3LWNmN2QtNGY3Mi1iMmViLWM2MmQ1MWY5NzZhZS5qcGc=',\n",
       "  'title': 'The Strangers: Chapter 2',\n",
       "  'rt_link': 'https://www.rottentomatoes.com/m/the_strangers_chapter_2'},\n",
       " {'poster_link': 'https://resizing.flixster.com/GRRDF-MY6_iS5Em5vNBg-Jd-uL0=/206x305/v2/https://resizing.flixster.com/WEfe-vTCqjHioD77J7f-qeoZZdY=/ems.cHJkLWVtcy1hc3NldHMvbW92aWVzL2FjN2M2NzA0LWNiMTctNDhjMy05N2VlLTk3YWI3N2JhZDZmMS5qcGc=',\n",
       "  'title': 'The Fantastic Four: First Steps',\n",
       "  'rt_link': 'https://www.rottentomatoes.com/m/the_fantastic_four_first_steps'},\n",
       " {'poster_link': 'https://resizing.flixster.com/55_VHCZV6fIn1a57FkoW1ZLizC0=/206x305/v2/https://resizing.flixster.com/lVMiLjW09XIzyhzJVXidkq-xDdc=/ems.cHJkLWVtcy1hc3NldHMvbW92aWVzL2Q3ZjMyYmY1LWZiZTItNDcwYi1iMTcxLTM4MDBjMWRiOWY0Ni5qcGc=',\n",
       "  'title': 'The Baltimorons',\n",
       "  'rt_link': 'https://www.rottentomatoes.com/m/the_baltimorons'},\n",
       " {'poster_link': 'https://resizing.flixster.com/Judfyta7PcBoQn8OnrhcDPsFgII=/206x305/v2/https://resizing.flixster.com/w2v-c_AhcYat1rcCctt8KrrWNRg=/ems.cHJkLWVtcy1hc3NldHMvbW92aWVzLzI2NWU4ZGIwLWQ1M2UtNDAzNy04Yjg0LTdjMGE3OGE5N2QzNi5qcGc=',\n",
       "  'title': 'Truth & Treason',\n",
       "  'rt_link': 'https://www.rottentomatoes.com/m/truth_and_treason'},\n",
       " {'poster_link': 'https://resizing.flixster.com/4m66DVCyOEKbNVEas_B_hXOtsNg=/206x305/v2/https://resizing.flixster.com/HrGLqcU2Vx7WAQXfc9ocxbLiKjg=/ems.cHJkLWVtcy1hc3NldHMvbW92aWVzLzQ2MmIzZTcwLTAyMmUtNDc4Ny1hNTQ0LTZkZGMyNGViNTBkNC5qcGc=',\n",
       "  'title': 'The Perfect Neighbor',\n",
       "  'rt_link': 'https://www.rottentomatoes.com/m/the_perfect_neighbor_2025'},\n",
       " {'poster_link': 'https://resizing.flixster.com/ICzCnvt3ee2ESd9eVJVKX8GZHX4=/206x305/v2/https://resizing.flixster.com/lIsAJkV41lNGNeOujUAvPxfJ5Fg=/ems.cHJkLWVtcy1hc3NldHMvbW92aWVzLzUyZjgyYjJhLWJhODItNGViZC05ODFiLWZkMWEzODkxY2M0Yy5qcGc=',\n",
       "  'title': 'Freakier Friday',\n",
       "  'rt_link': 'https://www.rottentomatoes.com/m/freakier_friday'},\n",
       " {'poster_link': 'https://resizing.flixster.com/p_Xy8kbuxjevoZcp2j-Hzu0ROzQ=/206x305/v2/https://resizing.flixster.com/vp5xJs7Fea-LliXt-XTkg88EI8U=/ems.cHJkLWVtcy1hc3NldHMvbW92aWVzL2Q5MmIwM2ZhLTQ5NjktNDRiMC1iMjgwLWQ5YjQ4MTNkYzQ1Zi5qcGc=',\n",
       "  'title': 'A Big Bold Beautiful Journey',\n",
       "  'rt_link': 'https://www.rottentomatoes.com/m/a_big_bold_beautiful_journey'},\n",
       " {'poster_link': 'https://resizing.flixster.com/dmDb9rNmd06WGBuxDS-XahqRZ_I=/206x305/v2/https://resizing.flixster.com/V9N7izs3jXjEzPk3H6AUgr17dBo=/ems.cHJkLWVtcy1hc3NldHMvbW92aWVzLzRmOTRjNzlkLTQwZWItNDI2Yy05MzU3LTFmMzVlNTk0M2I2YS5qcGc=',\n",
       "  'title': 'Beast of War',\n",
       "  'rt_link': 'https://www.rottentomatoes.com/m/beast_of_war'},\n",
       " {'poster_link': 'https://resizing.flixster.com/Iz6QNzkAqqEKZr53IZXRSgcViNA=/206x305/v2/https://resizing.flixster.com/sGV2qxt66pOlYk1oiB7eQRZ1zAE=/ems.cHJkLWVtcy1hc3NldHMvbW92aWVzLzkwMGViNjIyLTY4ZTAtNGU0OS05N2U0LTM5ZWExMzE5MmQ1ZS5wbmc=',\n",
       "  'title': 'The Mastermind',\n",
       "  'rt_link': 'https://www.rottentomatoes.com/m/the_mastermind'},\n",
       " {'poster_link': 'https://resizing.flixster.com/dP05vTNjpwiLcGZa_rXzgSZNCCo=/206x305/v2/https://resizing.flixster.com/c32XmlONGGf3k6KDxTsRe1vqvTk=/ems.cHJkLWVtcy1hc3NldHMvbW92aWVzLzY0NTMwOTYzLTdjODgtNDY2NC05ODU0LWQ2OGYxNDAwOGVkYy5qcGc=',\n",
       "  'title': 'Blue Moon',\n",
       "  'rt_link': 'https://www.rottentomatoes.com/m/blue_moon_2025'}]"
      ]
     },
     "execution_count": 24,
     "metadata": {},
     "output_type": "execute_result"
    }
   ],
   "source": [
    "best_movies = []\n",
    "\n",
    "for movie in movies:\n",
    "    img_url = movie.find('rt-img')['src']\n",
    "    movie_title = movie.select('span.p--small')[0].string.strip('\\n ') # class 선택자 .\n",
    "    movie_url = hostname + movie.find('a')['href']\n",
    "    # print(img_url, movie_title, movie_url)\n",
    "    best_movies.append({\n",
    "        'poster_link': img_url,\n",
    "        'title': movie_title,\n",
    "        'rt_link': movie_url,\n",
    "    })\n",
    "best_movies"
   ]
  },
  {
   "cell_type": "code",
   "execution_count": 25,
   "id": "512c0ca5-9fe5-4c0f-bb79-d4ee26de2a66",
   "metadata": {},
   "outputs": [
    {
     "data": {
      "text/plain": [
       "[{'poster_link': 'https://resizing.flixster.com/K0aJjfOwbuXTvkIHadRQ2zRnJ5I=/206x305/v2/https://resizing.flixster.com/47cnXnHE1N213AgLnzYCVugVD0M=/ems.cHJkLWVtcy1hc3NldHMvbW92aWVzL2Q3Mzc1YWQ5LTIzYTQtNDY3My04YmVjLTNkM2VhZDg1NTE1NS5qcGc=',\n",
       "  'title': 'TRON: Ares',\n",
       "  'rt_link': 'https://www.rottentomatoes.com/m/tron_ares'},\n",
       " {'poster_link': 'https://resizing.flixster.com/a0E2gFPOf0-iJR0RSgWv8zqCJxQ=/206x305/v2/https://resizing.flixster.com/yepsxuaCu3f7igZnTo2huAOVtCU=/ems.cHJkLWVtcy1hc3NldHMvbW92aWVzLzNhNmQzNDA0LWFhYjQtNDA5Mi04OTMyLTA2Y2U2OWI5ZjVmYS5qcGc=',\n",
       "  'title': 'One Battle After Another',\n",
       "  'rt_link': 'https://www.rottentomatoes.com/m/one_battle_after_another'},\n",
       " {'poster_link': 'https://resizing.flixster.com/ApYtN733UIua-dwTv1WFR1yv164=/206x305/v2/https://resizing.flixster.com/aKbJTH0DSJ78f44mzlQeLF2xU4o=/ems.cHJkLWVtcy1hc3NldHMvbW92aWVzLzhiOWQ0Mzg0LWZjMjgtNDdlOC05OWVlLTg0OWNlZjY0NGM0Ny5qcGc=',\n",
       "  'title': 'Roofman',\n",
       "  'rt_link': 'https://www.rottentomatoes.com/m/roofman'},\n",
       " {'poster_link': 'https://resizing.flixster.com/X02XNQ37q8y0jL7h1yo-HGM4aZY=/206x305/v2/https://resizing.flixster.com/OfmbZ8Gy2cwsBeL5GQ2BOl0gJMg=/ems.cHJkLWVtcy1hc3NldHMvbW92aWVzL2Q3NmNhYjA2LWI2NDAtNGNjYS1hMzE1LTNiMDFmYmM0N2RiYi5qcGc=',\n",
       "  'title': 'Black Phone 2',\n",
       "  'rt_link': 'https://www.rottentomatoes.com/m/black_phone_2'},\n",
       " {'poster_link': 'https://resizing.flixster.com/psGm7UsYaW83iAq7qMEvWAdQnJc=/206x305/v2/https://resizing.flixster.com/uaS9Buuct1GoHPTsNXIUBfvORbg=/ems.cHJkLWVtcy1hc3NldHMvbW92aWVzL2YzY2U4OWM5LWUyNTctNDJmMy1hYTc3LTAwMDY5NjU0N2VjZS5qcGc=',\n",
       "  'title': 'Weapons',\n",
       "  'rt_link': 'https://www.rottentomatoes.com/m/weapons'},\n",
       " {'poster_link': 'https://resizing.flixster.com/IwYuBlsLU2wW_qk2l4HTg4292Mk=/206x305/v2/https://resizing.flixster.com/bCmE66JqOjdh0rAHjb3JSQKYu2I=/ems.cHJkLWVtcy1hc3NldHMvbW92aWVzLzhiNTJiZGVjLWU3ODktNDllMC1hZWE4LTQ5YjFjNzM4ZjUwYS5qcGc=',\n",
       "  'title': 'Good Boy',\n",
       "  'rt_link': 'https://www.rottentomatoes.com/m/good_boy_2025'},\n",
       " {'poster_link': 'https://resizing.flixster.com/-lMQcGZV0glOY1yrkt4AXUIO9Qw=/206x305/v2/https://resizing.flixster.com/alzZWRTf5pZoDAudnLaxTbciZxY=/ems.cHJkLWVtcy1hc3NldHMvbW92aWVzLzNlMWZkY2U4LTJmOGEtNGRmNi05Mjg5LTU0MTFjYWNhMzM5NS5qcGc=',\n",
       "  'title': 'Kiss of the Spider Woman',\n",
       "  'rt_link': 'https://www.rottentomatoes.com/m/kiss_of_the_spider_woman_2025'},\n",
       " {'poster_link': 'https://resizing.flixster.com/rsOzN-h_vtInSpz4fVPtEo5BBU0=/206x305/v2/https://resizing.flixster.com/p3353cv-SS1XX2iMINFj9ZMUtVM=/ems.cHJkLWVtcy1hc3NldHMvbW92aWVzLzA5Y2QxMGRmLWRmNjUtNGVlOC1iM2VjLTRjNGIzMWMzMGQ1NS5qcGc=',\n",
       "  'title': 'HIM',\n",
       "  'rt_link': 'https://www.rottentomatoes.com/m/him_2025_2'},\n",
       " {'poster_link': 'https://resizing.flixster.com/IypIPjUm7K1XM1AIuxBm6BIk12M=/206x305/v2/https://resizing.flixster.com/qma4scQB19agkqUWcto4orOobHw=/ems.cHJkLWVtcy1hc3NldHMvbW92aWVzL2Y5YTFkNTZiLWI0NjYtNGI0MC1iMTNiLTQ1M2I0ZjEyODcxOC5qcGc=',\n",
       "  'title': 'Good Fortune',\n",
       "  'rt_link': 'https://www.rottentomatoes.com/m/good_fortune'},\n",
       " {'poster_link': 'https://resizing.flixster.com/wAyNYqTYbk3fakyp9QX_mEFyXnk=/206x305/v2/https://resizing.flixster.com/N51PaCVs6T7yUteAvq8TnlOnwQU=/ems.cHJkLWVtcy1hc3NldHMvbW92aWVzLzMyYjNjMTE1LWQ1ODQtNGY5Ny1hYjQzLWYzZmFmMWZiMDU5OC5qcGc=',\n",
       "  'title': 'After the Hunt',\n",
       "  'rt_link': 'https://www.rottentomatoes.com/m/after_the_hunt'},\n",
       " {'poster_link': 'https://resizing.flixster.com/BRP_UfjT5k5-1jz_Eq52hGszFqY=/206x305/v2/https://resizing.flixster.com/Yvivj5ruBbhNs1mN3JyudkIeJ6U=/ems.cHJkLWVtcy1hc3NldHMvbW92aWVzLzNmM2VkNTg5LTAwOGQtNDdiZC1hZGRkLTQ4ZDc2Yzc4YjU2ZC5qcGc=',\n",
       "  'title': 'A HOUSE OF DYNAMITE',\n",
       "  'rt_link': 'https://www.rottentomatoes.com/m/a_house_of_dynamite'},\n",
       " {'poster_link': 'https://resizing.flixster.com/sZEZ5noYh20GigZCfH45b-bTQBg=/206x305/v2/https://resizing.flixster.com/Zz5j775bLo0_Z-G77RAEMRKjB18=/ems.cHJkLWVtcy1hc3NldHMvbW92aWVzL2JmOTJjOWE4LTNlYTAtNGFmMS04NDViLTQ5Njg5Mjc4MzY0Ni5qcGc=',\n",
       "  'title': 'Frankenstein',\n",
       "  'rt_link': 'https://www.rottentomatoes.com/m/frankenstein_2025'},\n",
       " {'poster_link': 'https://resizing.flixster.com/ch7naNa96suJWuAplmfOLpGi7oA=/206x305/v2/https://resizing.flixster.com/fFnF5m4dVb_px7voe96J99cI8wk=/ems.cHJkLWVtcy1hc3NldHMvbW92aWVzLzM4ZmZhMGEwLThjYmQtNDcyZi1hMGFiLWU0Nzg4MWMyMGI0Zi5qcGc=',\n",
       "  'title': 'The Conjuring: Last Rites',\n",
       "  'rt_link': 'https://www.rottentomatoes.com/m/the_conjuring_last_rites'},\n",
       " {'poster_link': 'https://resizing.flixster.com/q1ghEo78vDF8eMY_z59ByzM77F0=/206x305/v2/https://resizing.flixster.com/SmFbanoZwH3Zu1VDR4KP_fQT_HQ=/ems.cHJkLWVtcy1hc3NldHMvbW92aWVzL2FkMTBkYjYwLTdjNmYtNDQzZi1hMzU1LWMzMTkxODYwMTQxNS5qcGc=',\n",
       "  'title': 'The Long Walk',\n",
       "  'rt_link': 'https://www.rottentomatoes.com/m/the_long_walk_2025'},\n",
       " {'poster_link': 'https://resizing.flixster.com/bmbSTWhFGE1G15OdF04F3Y3mS6U=/206x305/v2/https://resizing.flixster.com/IhekWAwTbCJeHx28kdyrJNoaEhQ=/ems.cHJkLWVtcy1hc3NldHMvbW92aWVzL2Q0Yzc1ODgwLWEzNzEtNGIzZC1iMGU3LWEyMzNlYjI3MmM5OS5qcGc=',\n",
       "  'title': 'Soul on Fire',\n",
       "  'rt_link': 'https://www.rottentomatoes.com/m/soul_on_fire'},\n",
       " {'poster_link': 'https://resizing.flixster.com/9pXVmDOAW4BkDpeaoMrC2QH0zHo=/206x305/v2/https://resizing.flixster.com/zXZcOch32GNhozxLFHnDiVXspf8=/ems.cHJkLWVtcy1hc3NldHMvbW92aWVzLzFhODEyYzYzLTlhM2QtNGU0YS1iNGY3LTNkNDY3MWQxYWQ2NS5qcGc=',\n",
       "  'title': \"If I Had Legs I'd Kick You\",\n",
       "  'rt_link': 'https://www.rottentomatoes.com/m/if_i_had_legs_id_kick_you'},\n",
       " {'poster_link': 'https://resizing.flixster.com/EwIZj_tqxoSxEABwp2xQ51HQA8U=/206x305/v2/https://resizing.flixster.com/bJJ57noM7uFLFepE_J7mkM0Mf_4=/ems.cHJkLWVtcy1hc3NldHMvbW92aWVzLzdkOGFlYWU2LTRlZmYtNDMzZS04MDAxLWFmZDVjNzI3MGQ4My5qcGc=',\n",
       "  'title': 'It Was Just an Accident',\n",
       "  'rt_link': 'https://www.rottentomatoes.com/m/it_was_just_an_accident'},\n",
       " {'poster_link': 'https://resizing.flixster.com/rMPAwQuwhkDu2Ay5TZ-4MbGUoLk=/206x305/v2/https://resizing.flixster.com/9KLhH_lTJno4oMw0Vc6DsvDBGAs=/ems.cHJkLWVtcy1hc3NldHMvbW92aWVzLzFmM2UwODIxLTlmMTAtNDlkNy05ZmJmLTZjOGJhMGYwZDU0YS5qcGc=',\n",
       "  'title': 'Anemone',\n",
       "  'rt_link': 'https://www.rottentomatoes.com/m/anemone_2025'},\n",
       " {'poster_link': 'https://resizing.flixster.com/M_POJtrrTGIR3PWLk5tkrXWX4wc=/206x305/v2/https://resizing.flixster.com/RKrt3h8sqkoLIWeeGslKNJV5aus=/ems.cHJkLWVtcy1hc3NldHMvbW92aWVzL2ViZmI1MjY3LWNmN2QtNGY3Mi1iMmViLWM2MmQ1MWY5NzZhZS5qcGc=',\n",
       "  'title': 'The Strangers: Chapter 2',\n",
       "  'rt_link': 'https://www.rottentomatoes.com/m/the_strangers_chapter_2'},\n",
       " {'poster_link': 'https://resizing.flixster.com/GRRDF-MY6_iS5Em5vNBg-Jd-uL0=/206x305/v2/https://resizing.flixster.com/WEfe-vTCqjHioD77J7f-qeoZZdY=/ems.cHJkLWVtcy1hc3NldHMvbW92aWVzL2FjN2M2NzA0LWNiMTctNDhjMy05N2VlLTk3YWI3N2JhZDZmMS5qcGc=',\n",
       "  'title': 'The Fantastic Four: First Steps',\n",
       "  'rt_link': 'https://www.rottentomatoes.com/m/the_fantastic_four_first_steps'},\n",
       " {'poster_link': 'https://resizing.flixster.com/55_VHCZV6fIn1a57FkoW1ZLizC0=/206x305/v2/https://resizing.flixster.com/lVMiLjW09XIzyhzJVXidkq-xDdc=/ems.cHJkLWVtcy1hc3NldHMvbW92aWVzL2Q3ZjMyYmY1LWZiZTItNDcwYi1iMTcxLTM4MDBjMWRiOWY0Ni5qcGc=',\n",
       "  'title': 'The Baltimorons',\n",
       "  'rt_link': 'https://www.rottentomatoes.com/m/the_baltimorons'},\n",
       " {'poster_link': 'https://resizing.flixster.com/Judfyta7PcBoQn8OnrhcDPsFgII=/206x305/v2/https://resizing.flixster.com/w2v-c_AhcYat1rcCctt8KrrWNRg=/ems.cHJkLWVtcy1hc3NldHMvbW92aWVzLzI2NWU4ZGIwLWQ1M2UtNDAzNy04Yjg0LTdjMGE3OGE5N2QzNi5qcGc=',\n",
       "  'title': 'Truth & Treason',\n",
       "  'rt_link': 'https://www.rottentomatoes.com/m/truth_and_treason'},\n",
       " {'poster_link': 'https://resizing.flixster.com/4m66DVCyOEKbNVEas_B_hXOtsNg=/206x305/v2/https://resizing.flixster.com/HrGLqcU2Vx7WAQXfc9ocxbLiKjg=/ems.cHJkLWVtcy1hc3NldHMvbW92aWVzLzQ2MmIzZTcwLTAyMmUtNDc4Ny1hNTQ0LTZkZGMyNGViNTBkNC5qcGc=',\n",
       "  'title': 'The Perfect Neighbor',\n",
       "  'rt_link': 'https://www.rottentomatoes.com/m/the_perfect_neighbor_2025'},\n",
       " {'poster_link': 'https://resizing.flixster.com/ICzCnvt3ee2ESd9eVJVKX8GZHX4=/206x305/v2/https://resizing.flixster.com/lIsAJkV41lNGNeOujUAvPxfJ5Fg=/ems.cHJkLWVtcy1hc3NldHMvbW92aWVzLzUyZjgyYjJhLWJhODItNGViZC05ODFiLWZkMWEzODkxY2M0Yy5qcGc=',\n",
       "  'title': 'Freakier Friday',\n",
       "  'rt_link': 'https://www.rottentomatoes.com/m/freakier_friday'},\n",
       " {'poster_link': 'https://resizing.flixster.com/p_Xy8kbuxjevoZcp2j-Hzu0ROzQ=/206x305/v2/https://resizing.flixster.com/vp5xJs7Fea-LliXt-XTkg88EI8U=/ems.cHJkLWVtcy1hc3NldHMvbW92aWVzL2Q5MmIwM2ZhLTQ5NjktNDRiMC1iMjgwLWQ5YjQ4MTNkYzQ1Zi5qcGc=',\n",
       "  'title': 'A Big Bold Beautiful Journey',\n",
       "  'rt_link': 'https://www.rottentomatoes.com/m/a_big_bold_beautiful_journey'},\n",
       " {'poster_link': 'https://resizing.flixster.com/dmDb9rNmd06WGBuxDS-XahqRZ_I=/206x305/v2/https://resizing.flixster.com/V9N7izs3jXjEzPk3H6AUgr17dBo=/ems.cHJkLWVtcy1hc3NldHMvbW92aWVzLzRmOTRjNzlkLTQwZWItNDI2Yy05MzU3LTFmMzVlNTk0M2I2YS5qcGc=',\n",
       "  'title': 'Beast of War',\n",
       "  'rt_link': 'https://www.rottentomatoes.com/m/beast_of_war'},\n",
       " {'poster_link': 'https://resizing.flixster.com/Iz6QNzkAqqEKZr53IZXRSgcViNA=/206x305/v2/https://resizing.flixster.com/sGV2qxt66pOlYk1oiB7eQRZ1zAE=/ems.cHJkLWVtcy1hc3NldHMvbW92aWVzLzkwMGViNjIyLTY4ZTAtNGU0OS05N2U0LTM5ZWExMzE5MmQ1ZS5wbmc=',\n",
       "  'title': 'The Mastermind',\n",
       "  'rt_link': 'https://www.rottentomatoes.com/m/the_mastermind'},\n",
       " {'poster_link': 'https://resizing.flixster.com/dP05vTNjpwiLcGZa_rXzgSZNCCo=/206x305/v2/https://resizing.flixster.com/c32XmlONGGf3k6KDxTsRe1vqvTk=/ems.cHJkLWVtcy1hc3NldHMvbW92aWVzLzY0NTMwOTYzLTdjODgtNDY2NC05ODU0LWQ2OGYxNDAwOGVkYy5qcGc=',\n",
       "  'title': 'Blue Moon',\n",
       "  'rt_link': 'https://www.rottentomatoes.com/m/blue_moon_2025'}]"
      ]
     },
     "execution_count": 25,
     "metadata": {},
     "output_type": "execute_result"
    }
   ],
   "source": [
    "hostname = 'https://www.rottentomatoes.com'\n",
    "url = hostname + '/browse/movies_in_theaters/sort:popular'\n",
    "\n",
    "# requests.get(url)\n",
    "response = requests.get(url)\n",
    "response.status_code\n",
    "\n",
    "# 전체 페이지에서 필요한 영역(영화 리스트) 크게 잘라내기\n",
    "soup = BeautifulSoup(response.text, 'lxml')\n",
    "movie_list = soup.find('div', attrs={'class':'discovery-tiles__wrap'}) # find_all 할 필요가 없어서 find 로 변경\n",
    "\n",
    "# 영역에서 필요한 단위(영화 한 편)로 잘라내기\n",
    "movies = movie_list.find_all('div', attrs={'class':'flex-container'})\n",
    "\n",
    "best_movies = []\n",
    "\n",
    "for movie in movies:\n",
    "    img_url = movie.find('rt-img')['src']\n",
    "    movie_title = movie.select('span.p--small')[0].string.strip('\\n ') # class 선택자 .\n",
    "    movie_url = hostname + movie.find('a')['href']\n",
    "    # print(img_url, movie_title, movie_url)\n",
    "    best_movies.append({\n",
    "        'poster_link': img_url,\n",
    "        'title': movie_title,\n",
    "        'rt_link': movie_url,\n",
    "    })\n",
    "best_movies"
   ]
  },
  {
   "cell_type": "markdown",
   "id": "7b831671-ca50-44a3-902c-d75a96122de7",
   "metadata": {},
   "source": [
    "## URL 분석하기\n",
    "\n",
    "https://search.naver.com/search.naver?where=nexearch&sm=top_hty&fbm=0&ie=utf8&query=원달러환율&ackey=5wft1q6p\n",
    "\n",
    "- protocol: https\n",
    "- domain: search.naver.com\n",
    "- path: search.naver\n",
    "- parameters: where=nexearch&sm=top_hty&fbm=0&ie=utf8&query=원달러환율&ackey=5wft1q6p\n",
    "\n",
    "```python\n",
    "{\n",
    "    'where': 'nexearch',\n",
    "    'sm': 'top_hty',\n",
    "    'fbm': 0,\n",
    "    'ie': 'utf8',\n",
    "    'query': '원달러환율',\n",
    "    'ackey': '5wft1q6p',\n",
    "}\n",
    "```\n"
   ]
  },
  {
   "cell_type": "code",
   "execution_count": 26,
   "id": "774595e7-edce-4d3f-9bd2-74caeb31931f",
   "metadata": {},
   "outputs": [
    {
     "data": {
      "text/plain": [
       "200"
      ]
     },
     "execution_count": 26,
     "metadata": {},
     "output_type": "execute_result"
    }
   ],
   "source": [
    "search_url = 'https://search.naver.com/search.naver?where=nexearch&sm=top_hty&fbm=0&ie=utf8&query=치앙마이&ackey=czzjq6w8'\n",
    "response = requests.get(search_url)\n",
    "response.status_code"
   ]
  },
  {
   "cell_type": "code",
   "execution_count": 33,
   "id": "f1827969-b449-4b30-9aa6-6db139df2bac",
   "metadata": {},
   "outputs": [
    {
     "data": {
      "text/plain": [
       "[{'search_term': '치앙마이',\n",
       "  'related_terms': ['치앙마이 날씨',\n",
       "   '치앙마이 항공권',\n",
       "   '치앙마이 여행',\n",
       "   '태국 치앙마이',\n",
       "   '치앙마이 한달살기',\n",
       "   '치앙마이 호텔',\n",
       "   '치앙마이 숙소',\n",
       "   '치앙마이 맛집',\n",
       "   '치앙마이 시간',\n",
       "   '치앙마이 10월 날씨']}]"
      ]
     },
     "execution_count": 33,
     "metadata": {},
     "output_type": "execute_result"
    }
   ],
   "source": [
    "soup = BeautifulSoup(response.text, 'lxml')\n",
    "ul_rel_terms = soup.find('ul', attrs={'class':'lst_related_srch _list_box'}) # 페이지 전체에서 연관검색어 섹션 찾기\n",
    "\n",
    "divs = ul_rel_terms.select('li > a > div') # CSS Selector를 이용해서 li -> a -> div 의 순으로 나열된 div 태그들 찾기\n",
    "\n",
    "result = []\n",
    "terms = []\n",
    "for div in divs: # 각 div에 대해\n",
    "    # print(div.text) # 결과값 확인용\n",
    "    terms.append(div.text) # div 태그의 텍스트값을 terms 리스트에 추가\n",
    "result.append({\n",
    "    'search_term': '치앙마이',\n",
    "    'related_terms': terms,\n",
    "})\n",
    "result"
   ]
  },
  {
   "cell_type": "code",
   "execution_count": 34,
   "id": "4e251ebf-8187-4892-a71b-e2b526d11c56",
   "metadata": {},
   "outputs": [],
   "source": [
    "result = []\n",
    "main_terms = ['치앙마이','후쿠오카','다낭']\n",
    "\n",
    "for term in main_terms:\n",
    "    terms = []\n",
    "    search_url = f'https://search.naver.com/search.naver?where=nexearch&sm=top_hty&fbm=0&ie=utf8&query={term}&ackey=czzjq6w8'\n",
    "    response = requests.get(search_url)\n",
    "    soup = BeautifulSoup(response.text, 'lxml')\n",
    "    ul_rel_terms = soup.find('ul', attrs={'class':'lst_related_srch _list_box'}) # 페이지 전체에서 연관검색어 섹션 찾기\n",
    "    divs = ul_rel_terms.select('li > a > div') # CSS Selector를 이용해서 li -> a -> div 의 순으로 나열된 div 태그들 찾기\n",
    "    \n",
    "    for div in divs: # 각 div에 대해\n",
    "        # print(div.text) # 결과값 확인용\n",
    "        terms.append(div.text) # div 태그의 텍스트값을 terms 리스트에 추가\n",
    "    result.append({\n",
    "        'search_term': term,\n",
    "        'related_terms': terms,\n",
    "    })\n",
    "\n",
    "    \n",
    "# 생각해보기: 메인검색어에 대해 나온 관련검색어를 한 번 더 검색하여 관련검색어를 저장하는 작업\n",
    "# 코드재사용 -> 검색하고 관련검색어를 구하는 과정을 function으로 변환"
   ]
  },
  {
   "cell_type": "code",
   "execution_count": 35,
   "id": "2f893a6c-5a7d-431b-a108-cd2ffeca1d71",
   "metadata": {},
   "outputs": [
    {
     "data": {
      "text/plain": [
       "[{'search_term': '치앙마이',\n",
       "  'related_terms': ['치앙마이 날씨',\n",
       "   '치앙마이 항공권',\n",
       "   '치앙마이 여행',\n",
       "   '태국 치앙마이',\n",
       "   '치앙마이 한달살기',\n",
       "   '치앙마이 호텔',\n",
       "   '치앙마이 숙소',\n",
       "   '치앙마이 맛집',\n",
       "   '치앙마이 시간',\n",
       "   '치앙마이 10월 날씨']},\n",
       " {'search_term': '후쿠오카',\n",
       "  'related_terms': ['후쿠오카날씨',\n",
       "   '후쿠오카항공권',\n",
       "   '후쿠오카여행',\n",
       "   '후쿠오카 가볼만한곳',\n",
       "   '후쿠오카 호텔',\n",
       "   '후쿠오카 맛집',\n",
       "   '후쿠오카 배편',\n",
       "   '후쿠오카 쇼핑',\n",
       "   '후쿠오카숙소',\n",
       "   '부산 후쿠오카 항공권']},\n",
       " {'search_term': '다낭',\n",
       "  'related_terms': ['다낭날씨',\n",
       "   '다낭항공권',\n",
       "   '베트남다낭',\n",
       "   '다낭여행',\n",
       "   '다낭자유여행',\n",
       "   '다낭패키지',\n",
       "   '다낭 비행기',\n",
       "   '한국에서다낭',\n",
       "   '다낭 지도',\n",
       "   '다낭 납치']}]"
      ]
     },
     "execution_count": 35,
     "metadata": {},
     "output_type": "execute_result"
    }
   ],
   "source": [
    "result"
   ]
  },
  {
   "cell_type": "markdown",
   "id": "3d01ed91-9673-4a49-b18e-84a9e845f203",
   "metadata": {},
   "source": [
    "## Selenium"
   ]
  },
  {
   "cell_type": "code",
   "execution_count": null,
   "id": "fef34733-936e-40da-bb6f-505e2f9b37fc",
   "metadata": {},
   "outputs": [],
   "source": [
    "# !conda install selenium\n",
    "# %pip install selenium\n",
    "\n",
    "# google chrome 브라우저 다운로드 받기"
   ]
  },
  {
   "cell_type": "code",
   "execution_count": 37,
   "id": "710a98ca-8355-44b8-a5b7-c97ba1503742",
   "metadata": {},
   "outputs": [
    {
     "data": {
      "text/plain": [
       "'4.36.0'"
      ]
     },
     "execution_count": 37,
     "metadata": {},
     "output_type": "execute_result"
    }
   ],
   "source": [
    "import selenium\n",
    "from selenium import webdriver\n",
    "from selenium.webdriver.chrome.options import Options\n",
    "from selenium.webdriver.common.keys import Keys\n",
    "from selenium.webdriver.common.by import By\n",
    "from time import sleep\n",
    "\n",
    "selenium.__version__ # . _ _ v e r s i o n _ _ 4.00 이상부터는 webdriver 내장되어있음"
   ]
  },
  {
   "cell_type": "code",
   "execution_count": 39,
   "id": "55a07a1a-94e1-4135-a19c-a6c25d239481",
   "metadata": {},
   "outputs": [],
   "source": [
    "options = Options()\n",
    "options.add_argument(\"disable-blink-features=AutomationControlled\") # 자동화 탐지 방지\n",
    "options.add_experimental_option(\"excludeSwitches\", [\"enable-automation\"]) #자동화 표시 제거\n",
    "options.add_experimental_option('useAutomationExtension', False) # 자동화 확장기능 사용 안 함\n",
    "# https://www.whatismybrowser.com/guides/the-latest-user-agent/chrome\n",
    "options.add_argument(\"user-agent=Mozilla/5.0 (Macintosh; Intel Mac OS X 10_15_7) AppleWebKit/537.36 (KHTML, like Gecko) Chrome/141.0.0.0 Safari/537.36\")\n",
    "# options.add_argument(\"--headless\") # headless mode\n",
    "ch_driver = webdriver.Chrome(options=options)"
   ]
  },
  {
   "cell_type": "code",
   "execution_count": 40,
   "id": "4b5fedac-f4b4-4ac3-8f0b-cec04f53123f",
   "metadata": {},
   "outputs": [
    {
     "data": {
      "text/plain": [
       "<selenium.webdriver.chrome.webdriver.WebDriver (session=\"f715727779ace013a56c1a877f9fad6f\")>"
      ]
     },
     "execution_count": 40,
     "metadata": {},
     "output_type": "execute_result"
    }
   ],
   "source": [
    "ch_driver"
   ]
  },
  {
   "cell_type": "code",
   "execution_count": null,
   "id": "c4434bbd-c291-46cb-9f01-68f2b76e2d94",
   "metadata": {},
   "outputs": [],
   "source": [
    "options.add_argument(\"user-agent=Mozilla/5.0 (Windows NT 10.0; Win64; x64) AppleWebKit/537.36 (KHTML, like Gecko) Chrome/141.0.0.0 Safari/537.36\")"
   ]
  },
  {
   "cell_type": "code",
   "execution_count": 41,
   "id": "05e66b77-2445-46ba-b8cd-512299efd01a",
   "metadata": {},
   "outputs": [],
   "source": [
    "jg_url = 'https://cafe.naver.com/joonggonara'\n",
    "ch_driver.get(jg_url) # 페이지 이동"
   ]
  },
  {
   "cell_type": "code",
   "execution_count": 46,
   "id": "8a73e1e9-491a-4338-88c2-6d551ce9b79c",
   "metadata": {},
   "outputs": [],
   "source": [
    "# 'topLayerQueryInput'\n",
    "# ch_driver.find_element(By.ID, \"topLayerQueryInput\")\n",
    "# ch_driver.find_element(By.ID, \"topLayerQueryInput\").tag_name\n",
    "query_input = ch_driver.find_element(By.ID, \"topLayerQueryInput\") # 요소 찾기\n",
    "search_term = '맥북'\n",
    "query_input.send_keys(search_term) # 키보드 입력"
   ]
  },
  {
   "cell_type": "code",
   "execution_count": 47,
   "id": "6eef93b1-9ade-4566-90c4-4c9a83b410fe",
   "metadata": {},
   "outputs": [],
   "source": [
    "# 버튼 요소를 찾아서 .click() 시킬 수도 있으나 # 마우스 입력\n",
    "# 검색버튼누르기 너무 귀찮을때 할 수 있는 방법\n",
    "# query_input.send_keys(Keys.ENTER)\n",
    "ch_driver.execute_script('searchBoard();') # 자바스크립트 실행"
   ]
  },
  {
   "cell_type": "code",
   "execution_count": 48,
   "id": "d3d0f796-1a88-4f2c-8d39-0c417c5e1894",
   "metadata": {},
   "outputs": [],
   "source": [
    "ch_driver.quit()"
   ]
  },
  {
   "cell_type": "code",
   "execution_count": null,
   "id": "4df82070-c8f5-48d8-ba4e-27a37b84518c",
   "metadata": {},
   "outputs": [],
   "source": []
  },
  {
   "cell_type": "code",
   "execution_count": null,
   "id": "ed072ddc-1777-4912-b8b1-351406101003",
   "metadata": {},
   "outputs": [],
   "source": []
  },
  {
   "cell_type": "code",
   "execution_count": null,
   "id": "ae0b56fa-36ea-4e08-a244-bd440dc579a9",
   "metadata": {},
   "outputs": [],
   "source": []
  },
  {
   "cell_type": "code",
   "execution_count": null,
   "id": "8ee08f6f-0ba5-41db-9efd-4119d4b2c600",
   "metadata": {},
   "outputs": [],
   "source": []
  },
  {
   "cell_type": "code",
   "execution_count": null,
   "id": "809a1c99-e1c4-4f0f-aafc-6be40c2765f0",
   "metadata": {},
   "outputs": [],
   "source": []
  },
  {
   "cell_type": "code",
   "execution_count": null,
   "id": "7457463b-4c0b-400d-b7ba-f048c17321cb",
   "metadata": {},
   "outputs": [],
   "source": []
  },
  {
   "cell_type": "code",
   "execution_count": null,
   "id": "28df013b-2584-4cbb-9055-c92f43041018",
   "metadata": {},
   "outputs": [],
   "source": []
  },
  {
   "cell_type": "code",
   "execution_count": null,
   "id": "0088092c-b3a1-4090-beac-de6916af7c3e",
   "metadata": {},
   "outputs": [],
   "source": []
  },
  {
   "cell_type": "code",
   "execution_count": null,
   "id": "448b6fd4-34ad-40ba-97ba-5662f9d26ee5",
   "metadata": {},
   "outputs": [],
   "source": []
  },
  {
   "cell_type": "code",
   "execution_count": null,
   "id": "3e26f59c-8227-407d-8dce-59fa3c5cb7f1",
   "metadata": {},
   "outputs": [],
   "source": []
  }
 ],
 "metadata": {
  "kernelspec": {
   "display_name": "Python 3 (ipykernel)",
   "language": "python",
   "name": "python3"
  },
  "language_info": {
   "codemirror_mode": {
    "name": "ipython",
    "version": 3
   },
   "file_extension": ".py",
   "mimetype": "text/x-python",
   "name": "python",
   "nbconvert_exporter": "python",
   "pygments_lexer": "ipython3",
   "version": "3.13.8"
  }
 },
 "nbformat": 4,
 "nbformat_minor": 5
}
