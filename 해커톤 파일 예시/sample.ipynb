{
 "cells": [
  {
   "cell_type": "markdown",
   "id": "152d3a0e",
   "metadata": {},
   "source": [
    "# 프로스포츠 데이터 수집"
   ]
  },
  {
   "cell_type": "markdown",
   "id": "0ef17d86",
   "metadata": {},
   "source": [
    "import requests\n",
    "from bs4 import BeautifulSoup\n",
    "import selenium"
   ]
  }
 ],
 "metadata": {
  "language_info": {
   "name": "python"
  }
 },
 "nbformat": 4,
 "nbformat_minor": 5
}
